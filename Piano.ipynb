{
 "cells": [
  {
   "cell_type": "code",
   "execution_count": 1,
   "metadata": {},
   "outputs": [],
   "source": [
    "from selenium import webdriver\n",
    "import pyautogui as auto\n",
    "import time"
   ]
  },
  {
   "cell_type": "code",
   "execution_count": 2,
   "metadata": {},
   "outputs": [],
   "source": [
    "driver = webdriver.Chrome()"
   ]
  },
  {
   "cell_type": "code",
   "execution_count": 3,
   "metadata": {},
   "outputs": [],
   "source": [
    "site = \"https://www.cifraclub.com.br/adele/someone-like-you/#tabs=false&instrument=keyboard\"\n",
    "driver.get(site)"
   ]
  },
  {
   "cell_type": "code",
   "execution_count": 4,
   "metadata": {},
   "outputs": [],
   "source": [
    "teste = driver.find_elements_by_tag_name(\"b\")"
   ]
  },
  {
   "cell_type": "code",
   "execution_count": 5,
   "metadata": {},
   "outputs": [],
   "source": [
    "lista = []\n",
    "for c in teste:\n",
    "    lista.append(c.text)"
   ]
  },
  {
   "cell_type": "code",
   "execution_count": 6,
   "metadata": {},
   "outputs": [],
   "source": [
    "val_remove = ''\n",
    "while val_remove in lista:\n",
    "    lista.remove(val_remove)"
   ]
  },
  {
   "cell_type": "code",
   "execution_count": 17,
   "metadata": {},
   "outputs": [
    {
     "data": {
      "text/plain": [
       "'amor'"
      ]
     },
     "execution_count": 17,
     "metadata": {},
     "output_type": "execute_result"
    }
   ],
   "source": [
    "lista_notas = []\n",
    "for d in lista:\n",
    "    if (len(d) < 7):\n",
    "        lista_notas.append(d)\n",
    "        \n",
    "lista_notas.pop(len(lista_notas)-1)"
   ]
  },
  {
   "cell_type": "code",
   "execution_count": 103,
   "metadata": {},
   "outputs": [],
   "source": [
    "#for r in range(len(lista_notas)):\n",
    "#    print(r,\" -- \",lista_notas[r])"
   ]
  },
  {
   "cell_type": "code",
   "execution_count": 10,
   "metadata": {},
   "outputs": [],
   "source": [
    "site2 = \"https://recursivearts.com/virtual-piano/\"\n",
    "driver.get(site2)"
   ]
  },
  {
   "cell_type": "code",
   "execution_count": 97,
   "metadata": {},
   "outputs": [],
   "source": [
    "class piano():\n",
    "    def __init__(self,tons,tempo,dicionario):\n",
    "        self.notas = tons\n",
    "        self.tempo = tempo\n",
    "        self.dic = dicionario\n",
    "    \n",
    "    def repeti_3(self):\n",
    "        \n",
    "        for t in range(len(self.dic[self.notas])):\n",
    "            auto.press(self.dic[self.notas][t])\n",
    "            time.sleep(self.tempo)\n",
    "            \n",
    "        for g in range(len(self.dic[self.notas])-2,0,-1):\n",
    "            auto.press(self.dic[self.notas][g])\n",
    "            time.sleep(self.tempo)\n",
    "        "
   ]
  },
  {
   "cell_type": "code",
   "execution_count": 100,
   "metadata": {},
   "outputs": [],
   "source": [
    "dic = {\n",
    "    \"A\" : [\"t\",\"8\",\"o\"],\n",
    "    \"C#m/G#\" : [\"5\",\"8\",\"o\"],\n",
    "    \"C#m7(5+)\" : [\"1\",\"w\",\"t\",\"y\"],\n",
    "    \"F#m\" : [\"4\",\"t\",\"8\"],\n",
    "    \"D\" : [\"q\",\"4\",\"t\"],\n",
    "    \"D4+\" : [\"q\",\"5\",\"t\"],\n",
    "    \"D5\" : [\"q\",\"4\",\"t\"],\n",
    "    \"D9(4+)\" : [\"q\",\"5\",\"t\"],\n",
    "    \"E\" : [\"w\",\"5\",\"y\"],\n",
    "    \"D5(9)\" : [\"q\",\"w\",\"y\"],\n",
    "    \"F#m7(11)\" : [\"4\",\"t\",\"y\",\"8\",\"o\"],\n",
    "    \"F#m7/C#\" : [\"1\",\"w\",\"4\",\"t\"],\n",
    "    \"Bm7(11)\" : [\"y\",\"i\",\"o\",\"a\",\"x\"],\n",
    "    \"Bm\" : [\"y\",\"i\",\"a\"]\n",
    "}\n"
   ]
  },
  {
   "cell_type": "code",
   "execution_count": 104,
   "metadata": {},
   "outputs": [],
   "source": [
    "driver.maximize_window()\n",
    "time.sleep(1)\n",
    "auto.click(352, 324)\n",
    "time.sleep(1)\n",
    "\n",
    "tempo = 0.15\n",
    "#tempo = 1\n",
    "passagem = 6\n",
    "\n",
    "\n",
    "for notas in lista_notas[:15]:\n",
    "    p = piano(notas,tempo,dic)\n",
    "    if ((notas == \"E\") or (notas == \"F#m7(11)\") or (notas == \"D5(9)\")):\n",
    "        p.repeti_3()\n",
    "        p.repeti_3()\n",
    "    elif ((notas == \"D9(4+)\") or (notas == \"D4+\")):\n",
    "        p.repeti_3()\n",
    "        p.repeti_3()\n",
    "    else:\n",
    "        p.repeti_3()\n",
    "        p.repeti_3()\n",
    "        p.repeti_3()\n",
    "        p.repeti_3()\n",
    "        "
   ]
  },
  {
   "cell_type": "code",
   "execution_count": null,
   "metadata": {},
   "outputs": [],
   "source": []
  }
 ],
 "metadata": {
  "kernelspec": {
   "display_name": "Python 3",
   "language": "python",
   "name": "python3"
  },
  "language_info": {
   "codemirror_mode": {
    "name": "ipython",
    "version": 3
   },
   "file_extension": ".py",
   "mimetype": "text/x-python",
   "name": "python",
   "nbconvert_exporter": "python",
   "pygments_lexer": "ipython3",
   "version": "3.7.4"
  }
 },
 "nbformat": 4,
 "nbformat_minor": 2
}
